{
 "cells": [
  {
   "cell_type": "code",
   "execution_count": 5,
   "id": "6a27b60a",
   "metadata": {},
   "outputs": [],
   "source": [
    "from sklearn.feature_extraction.text import CountVectorizer\n",
    "\n",
    "from sklearn.datasets import fetch_20newsgroups\n",
    "from sklearn.decomposition import LatentDirichletAllocation\n",
    "from sklearn.decomposition import NMF\n",
    "\n",
    "import matplotlib.pyplot as plt\n",
    "from wordcloud import WordCloud\n",
    "import numpy as np\n",
    "import re\n",
    "import os\n",
    "import math\n",
    "import pandas as pd\n",
    "\n",
    "import nltk\n",
    "from nltk.tokenize import word_tokenize\n",
    "from nltk.tokenize import sent_tokenize\n",
    "from nltk.stem import WordNetLemmatizer\n",
    "from nltk.corpus import stopwords\n",
    "from nltk.corpus import wordnet\n",
    "\n",
    "from collections import defaultdict\n",
    "from rouge import Rouge\n",
    "from pprint import pprint"
   ]
  },
  {
   "cell_type": "code",
   "execution_count": 2,
   "id": "d1ff701b",
   "metadata": {},
   "outputs": [],
   "source": [
    "def preprocess_text(text, tokens=True, stop_words=True):\n",
    "    stop_words = set(stopwords.words('english'))\n",
    "    clean_text = re.sub(r'[^a-zA-Z0-9 ]+', '', text)\n",
    "    words = word_tokenize(clean_text)\n",
    "    \n",
    "    if stop_words:\n",
    "        tokens_list = [word.lower() for word in words if word.lower() not in stop_words]\n",
    "    elif not stop_words:\n",
    "        tokens_list = [word.lower() for word in words]\n",
    "\n",
    "    if tokens:\n",
    "        return tokens_list\n",
    "    elif not tokens:\n",
    "        return ' '.join(tokens_list)"
   ]
  },
  {
   "cell_type": "code",
   "execution_count": 8,
   "id": "ad99ded2",
   "metadata": {},
   "outputs": [],
   "source": [
    "def compute_word_distribution(words):\n",
    "    unique_words, counts = np.unique(words, return_counts=True)\n",
    "    return dict(zip(unique_words, counts / float(len(words))))\n",
    "\n",
    "def get_KL_summary(text, eps=1e-10, summary_size=3):\n",
    "    \n",
    "    doc_words = preprocess_text(text)\n",
    "    doc_word_dist = compute_word_distribution(doc_words)\n",
    "\n",
    "    sentences = sent_tokenize(text)\n",
    "    sentence_scores = []\n",
    "\n",
    "    for sentence in sentences:\n",
    "        sentence_words = preprocess_text(sentence)\n",
    "        sentence_word_dist = compute_word_distribution(sentence_words)\n",
    "\n",
    "        sentence_score = 0\n",
    "        for word in doc_words:\n",
    "            if word in sentence_word_dist:\n",
    "                p_sent = sentence_word_dist[word]\n",
    "            else:\n",
    "                p_sent = eps\n",
    "            p_doc = doc_word_dist.get(word, 0)\n",
    "            sentence_score += p_doc * math.log(p_doc / (p_sent+eps))\n",
    "\n",
    "        sentence_scores.append(sentence_score)\n",
    "\n",
    "    best_sentences_idx = np.argsort(sentence_scores)[:summary_size]\n",
    "    summary = ' '.join([sentences[i] for i in best_sentences_idx])\n",
    "\n",
    "    return summary"
   ]
  },
  {
   "cell_type": "code",
   "execution_count": 43,
   "id": "19f2f8e6",
   "metadata": {},
   "outputs": [
    {
     "data": {
      "text/plain": [
       "'DYNAMITE LOS ANGELES \"TIMES\" Many Employes Killed and Los Angeles Times Build ing a Total Loss With Property Damage to Amount of Half a Million—Loss is Accredited to Labor Unions With Which it Had Waged an Unceasing Warfare. Los Angeles, CaL, Oct. I.—The building and plain of the Los Angeles Times, one of the best known newspa pers of the southwest, of which General Harrison Gray Otis is editor and principal owner, was eompeltely de stroyed by an explosion and tire shortly after 1 oYlock this morning, resulting in the death of upwards of twen ty employes and a financial loss of nearly half a million dollars. The management of the paper lays the blame of the explosion on the labor unions, with which organ izations the paper lias long been engaged in a bitter warfare. It is charged that unknown par-1 ties set off a heavy charge of dvna-1 mite in a blind alley which ran into j the center of the building, complete ly wrecking the interior and setting it on fire from roof to basement. The force of the explosion was terrific and was heard for miles. All the windows in the vicinity of the Times building at First and Broadway were shattered. Between 50 and 75 em-! ployes were Mi the building at the time of the explosion, and until the i whole list of employes of the paper can be checked over it will not be i known how many lives were lost. The responsible heads of the pa- 1 per, including Assistant General Manager Harry Chandler, had nar row escapes from death, many of them having left the building a short time before the explosion. The fire spread throughout the I building with amazing rapidity, and in the course of but a few seconds j the flames were bursting from every j window and door in the building, shooting high above the roof. Xo Clue to Perpetrators. The building was equipped with gasfittings and the force of the ex plosion tearing *these pipes into bits released the gas, which was instant ly ignited in every part of the build ing. There is no other cause than dy namite, is the evidence of witnesses, except in the one case of the West ern Union telegraph operator, Wm. Firmin, who stated that he detected the odor of gas throughout the building early in the night and had called the attention of others to it. A few minutes after the explosion the police arrested a man named Harry Lake, who was making his way through the Broadway tunnel a few blocks distant. He was locked up on suspicion. Another man named William Irwin was arrested and afterward taken to the station. The police are without clues, how ever. Assistant General Manager Chand ler narrowly escaped with his life. His office was on the ground floor and he left a few minutes before the explosion. He is accustomed to re main in his office until late in the morning but last night his wife came for him and he went home earlier than usual. His secretary, I. T. Westley Reaves, remained in the of fice and is among the missing. Says Ijabor Unions Responsible. Speaking of the explosion. Mr. Chandler said: \"You can say for me that there is no doubt that this terrible outrage can be laid to the doors of the labor unions. They have destroyed the building and plant and have killed a number of our men. We do not know how many, but they cannot kill the Times. There is no doubt but that the explosion was caused by a charge of dynamite. No other agency could have caused it. There was no oil in the building, we had no boilers to explode, there was no gasoline in the place excepting a small can or two in the composing room. It is true the building was equipped with gas, but no explosion of gas could have caused it. It was evidently aimed to destroy the plant, and kill as many as possible of the employes. For years we have been receiving threatening letters from people who said that the paper ought to be blown up. 1 have not received any such letters lately, although I have had several telephone calls within the past few weeks, threaten ing us with destruction.\\'\\' Had Auxiliary Plant. Two years ago. in anticipation of just such a thing as has occurred this morning, the Times established an auxiliary plant, equipped with linotypes and presses. The Times was issued today from the plant of the Morning Herald and the Times auxiliary plant. General Otis was absent from the city when the newspaper was de stroyed this morning. He is on his Established July 4,190f 5c PER COPY I way back to Los Angeles from The !City of Mexico, where he went some weeks ago as a representative of the United States government by ap pointment from President Taft to the celebration of the Mexican centen nial. General Otis is due to arrive in Los Angeles late this afternoon. The building in which the Times was housed was stone and brick. The part four stories high is of stone, built in ISS7. The six stories of brick were added later. Many From Composing Hoom Ieatl. The dead and missing come prin cipally from the composing room, which was directly above where the explosion occurred. A number of primers and linotype operators are missing and it is believed are buried in the still burning ruins and debris. All but three or four of the editorial staff had gone home but the entire force of telegraph editors and tele graph operators was at work, with the exception of one man, who had just left the building. Those in thp building made their way to the win dows wherever possible, and some jumped to the roofs of the adjoining buildings. Many jumped to the street, but some who had climbed into the windows were seen to fall back into the flames. Owing to the wrecked condition of the building many are believed to have been un able to reach the windows or other exits. Called Off Labor Parade. Mayor Alexander, the city council, j chief of police and other municipal officials met today with representa tives of tbe labor unions. It was re solved to call off the proposed union labor parade Monday in protest against the anti-picketing ordinance and other alleged anti-union labor \\'conditions exisiting in the city. It j was agreed that such assemblage in tbe midst of the present excitement was unwise. The city council voted a $25,000 •fund to be used to run down the i perpetrators of the alleged dynamit ing of the Los Angeles Times. The j $25,000 was made available as a re j ward for the capture of the culprit jor culprits. Pressmen Kscaped. The men in the pressroom, which j was in the basement, all escaped. It \\'is estimated that 125 men were in the building at the time of the explosion. Two Watchmen Kmployed. The Times employed two night i watchmen but they saw no one about the building to arouse their sus picions. One of the watchmen was jv, B. Glasier. He was not found land it is believed he perished. Tried to Blow Up Auxiliary Plant. Manager Chandler is authority for the statement that a similar attempt was made to blow up the Times\\' aux iliary plant last night. One of the employes saw two men trying to climb to the roof. He fired two shots at them. The men fled. He inter prets this second attemps as further proof of a carefully planned effort made last night to destroy both the Times main and branch office. Would Blow Up Zeehandelaar. Additional excitement was dis covered in an infernal machine un der the residence of Secretary F. J. Zeehandelaar of the Merchants and Manufacturers\\' association, who has been active in conjunction with the Los Angeles Times in opposition to labor unions. The machine was dis covered by Special Officer Hendrick son. who. under instructions from the chief of police, placed the ma- chine, which was of clockwork pat tern, in an isolated place. No arrGats have been made. The deadly char acter of the bomb was established by the police and detectives. It con sisted of 15 sticks of dynamite at tached to a fuse with clockwork at- tachment. An attempt was made this after noon to dynamite the home of Gen eral Otis, but nod-image was done.'"
      ]
     },
     "execution_count": 43,
     "metadata": {},
     "output_type": "execute_result"
    }
   ],
   "source": [
    "df = pd.read_csv('cleaned_output.csv')\n",
    "a = df['text'].iloc[250]\n",
    "a\n"
   ]
  },
  {
   "cell_type": "code",
   "execution_count": 44,
   "id": "cc2b2278",
   "metadata": {},
   "outputs": [
    {
     "name": "stdout",
     "output_type": "stream",
     "text": [
      "Original Text 13521: \n",
      "DYNAMITE LOS ANGELES \"TIMES\" Many Employes Killed and Los Angeles Times Build ing a Total Loss With Property Damage to Amount of Half a Million—Loss is Accredited to Labor Unions With Which it Had Waged an Unceasing Warfare. Los Angeles, CaL, Oct. I.—The building and plain of the Los Angeles Times, one of the best known newspa pers of the southwest, of which General Harrison Gray Otis is editor and principal owner, was eompeltely de stroyed by an explosion and tire shortly after 1 oYlock this morning, resulting in the death of upwards of twen ty employes and a financial loss of nearly half a million dollars. The management of the paper lays the blame of the explosion on the labor unions, with which organ izations the paper lias long been engaged in a bitter warfare. It is charged that unknown par-1 ties set off a heavy charge of dvna-1 mite in a blind alley which ran into j the center of the building, complete ly wrecking the interior and setting it on fire from roof to basement. The force of the explosion was terrific and was heard for miles. All the windows in the vicinity of the Times building at First and Broadway were shattered. Between 50 and 75 em-! ployes were Mi the building at the time of the explosion, and until the i whole list of employes of the paper can be checked over it will not be i known how many lives were lost. The responsible heads of the pa- 1 per, including Assistant General Manager Harry Chandler, had nar row escapes from death, many of them having left the building a short time before the explosion. The fire spread throughout the I building with amazing rapidity, and in the course of but a few seconds j the flames were bursting from every j window and door in the building, shooting high above the roof. Xo Clue to Perpetrators. The building was equipped with gasfittings and the force of the ex plosion tearing *these pipes into bits released the gas, which was instant ly ignited in every part of the build ing. There is no other cause than dy namite, is the evidence of witnesses, except in the one case of the West ern Union telegraph operator, Wm. Firmin, who stated that he detected the odor of gas throughout the building early in the night and had called the attention of others to it. A few minutes after the explosion the police arrested a man named Harry Lake, who was making his way through the Broadway tunnel a few blocks distant. He was locked up on suspicion. Another man named William Irwin was arrested and afterward taken to the station. The police are without clues, how ever. Assistant General Manager Chand ler narrowly escaped with his life. His office was on the ground floor and he left a few minutes before the explosion. He is accustomed to re main in his office until late in the morning but last night his wife came for him and he went home earlier than usual. His secretary, I. T. Westley Reaves, remained in the of fice and is among the missing. Says Ijabor Unions Responsible. Speaking of the explosion. Mr. Chandler said: \"You can say for me that there is no doubt that this terrible outrage can be laid to the doors of the labor unions. They have destroyed the building and plant and have killed a number of our men. We do not know how many, but they cannot kill the Times. There is no doubt but that the explosion was caused by a charge of dynamite. No other agency could have caused it. There was no oil in the building, we had no boilers to explode, there was no gasoline in the place excepting a small can or two in the composing room. It is true the building was equipped with gas, but no explosion of gas could have caused it. It was evidently aimed to destroy the plant, and kill as many as possible of the employes. For years we have been receiving threatening letters from people who said that the paper ought to be blown up. 1 have not received any such letters lately, although I have had several telephone calls within the past few weeks, threaten ing us with destruction.'' Had Auxiliary Plant. Two years ago. in anticipation of just such a thing as has occurred this morning, the Times established an auxiliary plant, equipped with linotypes and presses. The Times was issued today from the plant of the Morning Herald and the Times auxiliary plant. General Otis was absent from the city when the newspaper was de stroyed this morning. He is on his Established July 4,190f 5c PER COPY I way back to Los Angeles from The !City of Mexico, where he went some weeks ago as a representative of the United States government by ap pointment from President Taft to the celebration of the Mexican centen nial. General Otis is due to arrive in Los Angeles late this afternoon. The building in which the Times was housed was stone and brick. The part four stories high is of stone, built in ISS7. The six stories of brick were added later. Many From Composing Hoom Ieatl. The dead and missing come prin cipally from the composing room, which was directly above where the explosion occurred. A number of primers and linotype operators are missing and it is believed are buried in the still burning ruins and debris. All but three or four of the editorial staff had gone home but the entire force of telegraph editors and tele graph operators was at work, with the exception of one man, who had just left the building. Those in thp building made their way to the win dows wherever possible, and some jumped to the roofs of the adjoining buildings. Many jumped to the street, but some who had climbed into the windows were seen to fall back into the flames. Owing to the wrecked condition of the building many are believed to have been un able to reach the windows or other exits. Called Off Labor Parade. Mayor Alexander, the city council, j chief of police and other municipal officials met today with representa tives of tbe labor unions. It was re solved to call off the proposed union labor parade Monday in protest against the anti-picketing ordinance and other alleged anti-union labor 'conditions exisiting in the city. It j was agreed that such assemblage in tbe midst of the present excitement was unwise. The city council voted a $25,000 •fund to be used to run down the i perpetrators of the alleged dynamit ing of the Los Angeles Times. The j $25,000 was made available as a re j ward for the capture of the culprit jor culprits. Pressmen Kscaped. The men in the pressroom, which j was in the basement, all escaped. It 'is estimated that 125 men were in the building at the time of the explosion. Two Watchmen Kmployed. The Times employed two night i watchmen but they saw no one about the building to arouse their sus picions. One of the watchmen was jv, B. Glasier. He was not found land it is believed he perished. Tried to Blow Up Auxiliary Plant. Manager Chandler is authority for the statement that a similar attempt was made to blow up the Times' aux iliary plant last night. One of the employes saw two men trying to climb to the roof. He fired two shots at them. The men fled. He inter prets this second attemps as further proof of a carefully planned effort made last night to destroy both the Times main and branch office. Would Blow Up Zeehandelaar. Additional excitement was dis covered in an infernal machine un der the residence of Secretary F. J. Zeehandelaar of the Merchants and Manufacturers' association, who has been active in conjunction with the Los Angeles Times in opposition to labor unions. The machine was dis covered by Special Officer Hendrick son. who. under instructions from the chief of police, placed the ma- chine, which was of clockwork pat tern, in an isolated place. No arrGats have been made. The deadly char acter of the bomb was established by the police and detectives. It con sisted of 15 sticks of dynamite at tached to a fuse with clockwork at- tachment. An attempt was made this after noon to dynamite the home of Gen eral Otis, but nod-image was done....\n",
      "7900\n",
      "\n",
      "---------------------------------\n",
      "\n",
      "\n",
      "KL Summary:\n",
      "Los Angeles, CaL, Oct. I.—The building and plain of the Los Angeles Times, one of the best known newspa pers of the southwest, of which General Harrison Gray Otis is editor and principal owner, was eompeltely de stroyed by an explosion and tire shortly after 1 oYlock this morning, resulting in the death of upwards of twen ty employes and a financial loss of nearly half a million dollars.\n",
      "390\n"
     ]
    }
   ],
   "source": [
    "num_sentences = 1\n",
    "\n",
    "predicted_summary_kl = get_KL_summary(a, 0.000001, num_sentences)\n",
    "\n",
    "print(f\"Original Text {i+1}: \\n{a}...\")\n",
    "print(len(a))\n",
    "print(\"\\n---------------------------------\\n\")\n",
    "print(\"\\nKL Summary:\")\n",
    "print(predicted_summary_kl)\n",
    "print(len(predicted_summary_kl))\n"
   ]
  }
 ],
 "metadata": {
  "kernelspec": {
   "display_name": "deeplearning",
   "language": "python",
   "name": "python3"
  },
  "language_info": {
   "codemirror_mode": {
    "name": "ipython",
    "version": 3
   },
   "file_extension": ".py",
   "mimetype": "text/x-python",
   "name": "python",
   "nbconvert_exporter": "python",
   "pygments_lexer": "ipython3",
   "version": "3.12.7"
  }
 },
 "nbformat": 4,
 "nbformat_minor": 5
}

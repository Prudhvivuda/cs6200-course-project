{
 "cells": [
  {
   "cell_type": "code",
   "execution_count": 7,
   "id": "2bb0bb88",
   "metadata": {},
   "outputs": [
    {
     "name": "stderr",
     "output_type": "stream",
     "text": [
      "[nltk_data] Downloading package punkt_tab to\n",
      "[nltk_data]     /Users/prudhvivuda/nltk_data...\n",
      "[nltk_data]   Package punkt_tab is already up-to-date!\n",
      "[nltk_data] Downloading package punkt to\n",
      "[nltk_data]     /Users/prudhvivuda/nltk_data...\n",
      "[nltk_data]   Package punkt is already up-to-date!\n",
      "[nltk_data] Downloading package stopwords to\n",
      "[nltk_data]     /Users/prudhvivuda/nltk_data...\n",
      "[nltk_data]   Package stopwords is already up-to-date!\n"
     ]
    }
   ],
   "source": [
    "import pandas as pd\n",
    "import nltk\n",
    "from nltk.tokenize import word_tokenize\n",
    "from nltk.corpus import stopwords\n",
    "from nltk.stem import PorterStemmer\n",
    "import re\n",
    "\n",
    "nltk.download('punkt_tab')\n",
    "nltk.download('punkt')\n",
    "nltk.download('stopwords')\n",
    "\n",
    "# Load data\n",
    "df = pd.read_csv('prudhvi_output.csv')\n",
    "\n",
    "# Initialize stemmer and stopwords\n",
    "ps = PorterStemmer()\n",
    "stop_words = set(stopwords.words('english'))\n",
    "\n",
    "def preprocess_text(text):\n",
    "    # Handle NaN or non-string inputs\n",
    "    if pd.isna(text) or not isinstance(text, str):\n",
    "        return []\n",
    "    try:\n",
    "        # Tokenize and lowercase\n",
    "        tokens = word_tokenize(text.lower())\n",
    "        # Keep alphabetic tokens (stemmed), numbers (unchanged), and specific alphanumeric (e.g., \"12th\")\n",
    "        processed_tokens = []\n",
    "        for token in tokens:\n",
    "            # Skip stopwords\n",
    "            if token in stop_words:\n",
    "                continue\n",
    "            # Keep years (4-digit numbers), e.g., \"1882\"\n",
    "            if re.match(r'^\\d{4}$', token):\n",
    "                processed_tokens.append(token)\n",
    "            # Keep ordinals (e.g., \"12th\", \"8th\") or section numbers\n",
    "            elif re.match(r'^\\d+(st|nd|rd|th)$', token):\n",
    "                processed_tokens.append(token)\n",
    "            # Keep alphabetic tokens, stemmed\n",
    "            elif token.isalpha():\n",
    "                processed_tokens.append(ps.stem(token))\n",
    "            # Optionally keep money amounts (e.g., \"$500\") - uncomment if needed\n",
    "            # elif re.match(r'^\\$\\d+$', token):\n",
    "            #     processed_tokens.append(token)\n",
    "        return processed_tokens\n",
    "    except Exception as e:\n",
    "        print(f\"Error processing text: {text[:50]}... Error: {e}\")\n",
    "        return []\n",
    "\n",
    "# Apply preprocessing\n",
    "df['processed_text'] = df['text'].apply(preprocess_text)\n",
    "\n",
    "# Organize relevance judgments\n",
    "rel_judgments = df.groupby('topic_id')[['result_id', 'rel']].apply(lambda x: list(zip(x['result_id'], x['rel']))).to_dict()"
   ]
  },
  {
   "cell_type": "code",
   "execution_count": 8,
   "id": "f051339a",
   "metadata": {},
   "outputs": [],
   "source": [
    "from rank_bm25 import BM25Okapi\n",
    "corpus = df['processed_text'].tolist()\n",
    "bm25 = BM25Okapi(corpus)\n",
    "query = preprocess_text(\"Chinese exclusion act 1882\")\n",
    "scores = bm25.get_scores(query)"
   ]
  },
  {
   "cell_type": "code",
   "execution_count": 9,
   "id": "b125f2f8",
   "metadata": {},
   "outputs": [
    {
     "data": {
      "text/plain": [
       "array([ 7.03346405, 10.59085899,  7.52595357, 12.07065187,  9.64555593,\n",
       "        5.58150414, 10.50632099, 10.64023093, 10.43307407, 11.42167851,\n",
       "       11.21743257, 10.0993923 ,  0.        ,  0.        ,  0.        ,\n",
       "        1.63643724,  0.        ,  0.        ,  0.        ,  0.        ,\n",
       "        0.        ,  0.        ,  0.        ,  0.        ,  0.        ,\n",
       "        0.        ,  0.        ,  0.        ,  0.        ,  0.        ,\n",
       "        0.        ,  0.        ,  0.        ,  0.        ,  0.        ,\n",
       "        0.        ,  0.        ,  0.        ,  0.        ,  0.        ,\n",
       "        0.        ,  0.        ,  0.        ,  0.        ,  0.        ,\n",
       "        0.        ,  0.58290796,  0.        ,  3.08288294,  1.12337456,\n",
       "        0.        ,  0.        ,  0.        ,  0.        ,  0.        ,\n",
       "        0.        ,  2.10562083,  0.        ,  1.27002255,  0.        ,\n",
       "        1.01685086,  0.83682834,  0.64462086,  1.03943229,  0.76631662,\n",
       "        0.96735802,  0.        ,  0.        ,  0.        ,  0.        ,\n",
       "        0.        ,  0.        ,  1.18840975,  0.        ,  1.37752845,\n",
       "        0.        ,  0.        ,  0.        ,  0.91558259,  0.        ,\n",
       "        0.        ,  0.        ,  0.        ,  0.        ,  0.        ,\n",
       "        0.        ,  0.        ,  0.        ,  1.62342304,  0.        ,\n",
       "        0.        ,  0.        ,  0.58912148,  0.        ,  0.        ,\n",
       "        0.        ,  0.        ,  0.        ,  0.        ,  0.        ,\n",
       "        1.88216787,  0.        ,  0.        ,  0.        ,  0.        ,\n",
       "        0.        ,  1.81631311,  0.        ,  0.        ,  0.        ,\n",
       "        1.2504605 ,  1.3340464 ,  0.        ,  0.        ,  0.        ,\n",
       "        0.        ,  0.        ,  0.        ,  0.        ,  0.        ,\n",
       "        0.        ,  0.        ,  0.570866  ,  1.92418225,  0.        ,\n",
       "        0.        ,  0.        ,  0.        ,  0.        ,  0.        ])"
      ]
     },
     "execution_count": 9,
     "metadata": {},
     "output_type": "execute_result"
    }
   ],
   "source": [
    "scores"
   ]
  }
 ],
 "metadata": {
  "kernelspec": {
   "display_name": "genai",
   "language": "python",
   "name": "python3"
  },
  "language_info": {
   "codemirror_mode": {
    "name": "ipython",
    "version": 3
   },
   "file_extension": ".py",
   "mimetype": "text/x-python",
   "name": "python",
   "nbconvert_exporter": "python",
   "pygments_lexer": "ipython3",
   "version": "3.12.8"
  }
 },
 "nbformat": 4,
 "nbformat_minor": 5
}
